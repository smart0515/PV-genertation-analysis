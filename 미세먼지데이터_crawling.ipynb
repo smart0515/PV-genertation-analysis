{
 "cells": [
  {
   "cell_type": "markdown",
   "id": "52f52053",
   "metadata": {},
   "source": [
    "# 미세먼지 데이터 크롤링"
   ]
  },
  {
   "cell_type": "code",
   "execution_count": 1,
   "id": "ef123d8c",
   "metadata": {
    "ExecuteTime": {
     "end_time": "2023-05-03T06:32:28.105422Z",
     "start_time": "2023-05-03T06:32:26.329852Z"
    }
   },
   "outputs": [
    {
     "name": "stdout",
     "output_type": "stream",
     "text": [
      "[['2013-01-01 01:00', '29', '21', '0.0040', '0.0220', '-', '0.0060', '', '', ''], ['2013-01-01 02:00', '45', '-', '0.0040', '0.0120', '-', '0.0060', '', '', ''], ['2013-01-01 03:00', '24', '19', '0.0050', '0.0120', '-', '0.0050', '', '', ''], ['2013-01-01 04:00', '24', '19', '0.0060', '0.0090', '-', '0.0050', '', '', ''], ['2013-01-01 05:00', '23', '20', '0.0060', '0.0050', '-', '0.0040', '', '', ''], ['2013-01-01 06:00', '26', '23', '0.0070', '0.0060', '-', '0.0040', '', '', ''], ['2013-01-01 07:00', '26', '-', '0.0060', '0.0100', '-', '0.0040', '', '', ''], ['2013-01-01 08:00', '30', '24', '0.0060', '0.0110', '-', '0.0040', '', '', ''], ['2013-01-01 09:00', '28', '23', '0.0050', '0.0100', '-', '0.0040', '', '', ''], ['2013-01-01 10:00', '29', '27', '0.0070', '0.0060', '-', '0.0050', '', '', ''], ['2013-01-01 11:00', '42', '31', '0.0110', '0.0040', '-', '0.0090', '', '', ''], ['2013-01-01 12:00', '58', '36', '0.0110', '0.0110', '-', '0.0090', '', '', ''], ['2013-01-01 13:00', '54', '36', '0.0140', '0.0080', '-', '0.0130', '', '', ''], ['2013-01-01 14:00', '70', '45', '0.0100', '0.0160', '-', '0.0240', '', '', ''], ['2013-01-01 15:00', '104', '64', '0.0080', '0.0120', '-', '0.0250', '', '', ''], ['2013-01-01 16:00', '106', '61', '0.0100', '0.0160', '-', '0.0220', '', '', ''], ['2013-01-01 17:00', '108', '53', '0.0090', '0.0200', '-', '0.0190', '', '', ''], ['2013-01-01 18:00', '116', '51', '0.0080', '0.0190', '-', '0.0140', '', '', ''], ['2013-01-01 19:00', '101', '40', '0.0080', '0.0170', '-', '0.0120', '', '', ''], ['2013-01-01 20:00', '99', '37', '0.0070', '0.0130', '-', '0.0130', '', '', ''], ['2013-01-01 21:00', '92', '38', '0.0060', '0.0180', '-', '0.0090', '', '', ''], ['2013-01-01 22:00', '92', '35', '0.0060', '0.0200', '-', '0.0070', '', '', ''], ['2013-01-01 23:00', '93', '41', '0.0060', '0.0130', '-', '0.0080', '', '', ''], ['2013-01-02 00:00', '91', '43', '0.0070', '0.0080', '-', '0.0070', '', '', '']]\n"
     ]
    }
   ],
   "source": [
    "import requests\n",
    "from bs4 import BeautifulSoup\n",
    "\n",
    "url = 'https://air.jihe.go.kr/jnair/airInfo/byObserverDateIndex.do?menuCd=jnair001006&observerId=741&displayType=table&observeDate=2013-01-01&searchType=%EC%8B%9C&observeTerm=day1'\n",
    "response = requests.get(url)\n",
    "\n",
    "soup = BeautifulSoup(response.text, 'html.parser')\n",
    "table = soup.find_all('table')[0]  # 데이터가 있는 테이블 요소를 찾습니다.\n",
    "\n",
    "data = []\n",
    "for tr in table.find_all('tr'):  # 각 행을 반복하면서 데이터를 추출합니다.\n",
    "    tds = tr.find_all('td')\n",
    "    if len(tds) == 0:  # 첫 번째 행은 헤더이므로 데이터에 포함하지 않습니다.\n",
    "        continue\n",
    "    row = [td.text.strip() for td in tds]\n",
    "    data.append(row)\n",
    "\n",
    "print(data)  # 추출한 데이터를 출력합니다.\n"
   ]
  },
  {
   "cell_type": "code",
   "execution_count": 6,
   "id": "e9a85ced",
   "metadata": {
    "ExecuteTime": {
     "end_time": "2023-05-03T08:36:52.123712Z",
     "start_time": "2023-05-03T06:56:18.316301Z"
    }
   },
   "outputs": [
    {
     "name": "stderr",
     "output_type": "stream",
     "text": [
      "IOPub data rate exceeded.\n",
      "The notebook server will temporarily stop sending output\n",
      "to the client in order to avoid crashing it.\n",
      "To change this limit, set the config variable\n",
      "`--NotebookApp.iopub_data_rate_limit`.\n",
      "\n",
      "Current values:\n",
      "NotebookApp.iopub_data_rate_limit=1000000.0 (bytes/sec)\n",
      "NotebookApp.rate_limit_window=3.0 (secs)\n",
      "\n"
     ]
    }
   ],
   "source": [
    "import requests\n",
    "from bs4 import BeautifulSoup\n",
    "from datetime import datetime, timedelta\n",
    "\n",
    "url_template = 'https://air.jihe.go.kr/jnair/airInfo/byObserverDateIndex.do?menuCd=jnair001006&observerId=741&displayType=table&observeDate={date}&searchType=%EC%8B%9C&observeTerm=day1'\n",
    "\n",
    "start_date = datetime(2013, 1, 1)\n",
    "end_date = datetime(2022, 12, 31)\n",
    "\n",
    "data = []\n",
    "delta = timedelta(days=1)\n",
    "\n",
    "while start_date <= end_date:\n",
    "    date_str = start_date.strftime('%Y-%m-%d')\n",
    "    url = url_template.format(date=date_str)\n",
    "    response = requests.get(url)\n",
    "    soup = BeautifulSoup(response.text, 'html.parser')\n",
    "    table = soup.find_all('table')[0]\n",
    "    for tr in table.find_all('tr'):\n",
    "        tds = tr.find_all('td')\n",
    "        if len(tds) == 0:\n",
    "            continue\n",
    "        row = [td.text.strip() for td in tds]\n",
    "        data.append(row)\n",
    "    start_date += delta\n",
    "\n",
    "print(data)\n"
   ]
  },
  {
   "cell_type": "markdown",
   "id": "8e11b745",
   "metadata": {},
   "source": [
    "."
   ]
  },
  {
   "cell_type": "markdown",
   "id": "2b15e86f",
   "metadata": {},
   "source": [
    "# 여기부터 실행"
   ]
  },
  {
   "cell_type": "code",
   "execution_count": 2,
   "id": "5c0a3165",
   "metadata": {
    "ExecuteTime": {
     "end_time": "2023-05-07T04:42:43.842301Z",
     "start_time": "2023-05-07T04:42:43.526908Z"
    }
   },
   "outputs": [],
   "source": [
    "import pandas as pd\n",
    "import numpy as np"
   ]
  },
  {
   "cell_type": "code",
   "execution_count": 7,
   "id": "2e8df087",
   "metadata": {
    "ExecuteTime": {
     "end_time": "2023-05-03T08:36:52.411184Z",
     "start_time": "2023-05-03T08:36:52.371302Z"
    }
   },
   "outputs": [],
   "source": [
    "df = pd.DataFrame(data, columns=['날짜', 'PM10', 'PM2.5','O3','이산화질소','일산화질소','아황산가스','등급','지수','결정항목'])"
   ]
  },
  {
   "cell_type": "code",
   "execution_count": 8,
   "id": "ad5f40de",
   "metadata": {
    "ExecuteTime": {
     "end_time": "2023-05-03T08:36:52.937862Z",
     "start_time": "2023-05-03T08:36:52.626428Z"
    }
   },
   "outputs": [],
   "source": [
    "df.to_csv('data.csv', index=False)"
   ]
  },
  {
   "cell_type": "code",
   "execution_count": 9,
   "id": "f01b5504",
   "metadata": {
    "ExecuteTime": {
     "end_time": "2023-05-03T08:37:06.266105Z",
     "start_time": "2023-05-03T08:36:53.180632Z"
    }
   },
   "outputs": [],
   "source": [
    "df.to_excel('data.xlsx', index=False)"
   ]
  },
  {
   "cell_type": "code",
   "execution_count": 3,
   "id": "e4f3e1d2",
   "metadata": {
    "ExecuteTime": {
     "end_time": "2023-05-07T04:42:48.214336Z",
     "start_time": "2023-05-07T04:42:48.138449Z"
    }
   },
   "outputs": [
    {
     "data": {
      "text/html": [
       "<div>\n",
       "<style scoped>\n",
       "    .dataframe tbody tr th:only-of-type {\n",
       "        vertical-align: middle;\n",
       "    }\n",
       "\n",
       "    .dataframe tbody tr th {\n",
       "        vertical-align: top;\n",
       "    }\n",
       "\n",
       "    .dataframe thead th {\n",
       "        text-align: right;\n",
       "    }\n",
       "</style>\n",
       "<table border=\"1\" class=\"dataframe\">\n",
       "  <thead>\n",
       "    <tr style=\"text-align: right;\">\n",
       "      <th></th>\n",
       "      <th>날짜</th>\n",
       "      <th>PM10</th>\n",
       "      <th>PM2.5</th>\n",
       "      <th>O3</th>\n",
       "      <th>이산화질소</th>\n",
       "      <th>일산화질소</th>\n",
       "      <th>아황산가스</th>\n",
       "    </tr>\n",
       "  </thead>\n",
       "  <tbody>\n",
       "    <tr>\n",
       "      <th>0</th>\n",
       "      <td>2013-01-01 1:00</td>\n",
       "      <td>29</td>\n",
       "      <td>21</td>\n",
       "      <td>0.004</td>\n",
       "      <td>0.022</td>\n",
       "      <td>-</td>\n",
       "      <td>0.006</td>\n",
       "    </tr>\n",
       "    <tr>\n",
       "      <th>1</th>\n",
       "      <td>2013-01-01 2:00</td>\n",
       "      <td>45</td>\n",
       "      <td>-</td>\n",
       "      <td>0.004</td>\n",
       "      <td>0.012</td>\n",
       "      <td>-</td>\n",
       "      <td>0.006</td>\n",
       "    </tr>\n",
       "    <tr>\n",
       "      <th>2</th>\n",
       "      <td>2013-01-01 3:00</td>\n",
       "      <td>24</td>\n",
       "      <td>19</td>\n",
       "      <td>0.005</td>\n",
       "      <td>0.012</td>\n",
       "      <td>-</td>\n",
       "      <td>0.005</td>\n",
       "    </tr>\n",
       "    <tr>\n",
       "      <th>3</th>\n",
       "      <td>2013-01-01 4:00</td>\n",
       "      <td>24</td>\n",
       "      <td>19</td>\n",
       "      <td>0.006</td>\n",
       "      <td>0.009</td>\n",
       "      <td>-</td>\n",
       "      <td>0.005</td>\n",
       "    </tr>\n",
       "    <tr>\n",
       "      <th>4</th>\n",
       "      <td>2013-01-01 5:00</td>\n",
       "      <td>23</td>\n",
       "      <td>20</td>\n",
       "      <td>0.006</td>\n",
       "      <td>0.005</td>\n",
       "      <td>-</td>\n",
       "      <td>0.004</td>\n",
       "    </tr>\n",
       "    <tr>\n",
       "      <th>...</th>\n",
       "      <td>...</td>\n",
       "      <td>...</td>\n",
       "      <td>...</td>\n",
       "      <td>...</td>\n",
       "      <td>...</td>\n",
       "      <td>...</td>\n",
       "      <td>...</td>\n",
       "    </tr>\n",
       "    <tr>\n",
       "      <th>87444</th>\n",
       "      <td>2022-12-31 20:00</td>\n",
       "      <td>32</td>\n",
       "      <td>22</td>\n",
       "      <td>0.018</td>\n",
       "      <td>0.022</td>\n",
       "      <td>0.65</td>\n",
       "      <td>0.002</td>\n",
       "    </tr>\n",
       "    <tr>\n",
       "      <th>87445</th>\n",
       "      <td>2022-12-31 21:00</td>\n",
       "      <td>44</td>\n",
       "      <td>33</td>\n",
       "      <td>0.006</td>\n",
       "      <td>0.032</td>\n",
       "      <td>0.61</td>\n",
       "      <td>0.002</td>\n",
       "    </tr>\n",
       "    <tr>\n",
       "      <th>87446</th>\n",
       "      <td>2022-12-31 22:00</td>\n",
       "      <td>46</td>\n",
       "      <td>37</td>\n",
       "      <td>0.005</td>\n",
       "      <td>0.03</td>\n",
       "      <td>0.7</td>\n",
       "      <td>0.002</td>\n",
       "    </tr>\n",
       "    <tr>\n",
       "      <th>87447</th>\n",
       "      <td>2022-12-31 23:00</td>\n",
       "      <td>47</td>\n",
       "      <td>35</td>\n",
       "      <td>0.002</td>\n",
       "      <td>0.032</td>\n",
       "      <td>0.83</td>\n",
       "      <td>0.003</td>\n",
       "    </tr>\n",
       "    <tr>\n",
       "      <th>87448</th>\n",
       "      <td>2023-01-01 0:00</td>\n",
       "      <td>66</td>\n",
       "      <td>54</td>\n",
       "      <td>0.003</td>\n",
       "      <td>0.027</td>\n",
       "      <td>0.69</td>\n",
       "      <td>0.002</td>\n",
       "    </tr>\n",
       "  </tbody>\n",
       "</table>\n",
       "<p>87449 rows × 7 columns</p>\n",
       "</div>"
      ],
      "text/plain": [
       "                     날짜 PM10 PM2.5     O3  이산화질소 일산화질소  아황산가스\n",
       "0       2013-01-01 1:00   29    21  0.004  0.022     -  0.006\n",
       "1       2013-01-01 2:00   45     -  0.004  0.012     -  0.006\n",
       "2       2013-01-01 3:00   24    19  0.005  0.012     -  0.005\n",
       "3       2013-01-01 4:00   24    19  0.006  0.009     -  0.005\n",
       "4       2013-01-01 5:00   23    20  0.006  0.005     -  0.004\n",
       "...                 ...  ...   ...    ...    ...   ...    ...\n",
       "87444  2022-12-31 20:00   32    22  0.018  0.022  0.65  0.002\n",
       "87445  2022-12-31 21:00   44    33  0.006  0.032  0.61  0.002\n",
       "87446  2022-12-31 22:00   46    37  0.005   0.03   0.7  0.002\n",
       "87447  2022-12-31 23:00   47    35  0.002  0.032  0.83  0.003\n",
       "87448   2023-01-01 0:00   66    54  0.003  0.027  0.69  0.002\n",
       "\n",
       "[87449 rows x 7 columns]"
      ]
     },
     "execution_count": 3,
     "metadata": {},
     "output_type": "execute_result"
    }
   ],
   "source": [
    "df=pd.read_csv('data2.csv')\n",
    "df"
   ]
  },
  {
   "cell_type": "markdown",
   "id": "acd8f05b",
   "metadata": {},
   "source": [
    "1. df에서 날짜 따로 저장해두고 드롭하고\n",
    "2. '-' 전부 ''으로 replace하고\n",
    "3. 날짜 다시 붙임"
   ]
  },
  {
   "cell_type": "code",
   "execution_count": 5,
   "id": "5423d205",
   "metadata": {
    "ExecuteTime": {
     "end_time": "2023-05-07T05:47:04.188013Z",
     "start_time": "2023-05-07T05:47:04.175761Z"
    }
   },
   "outputs": [],
   "source": [
    "tmp = df['날짜']"
   ]
  },
  {
   "cell_type": "code",
   "execution_count": 7,
   "id": "1fe08bfe",
   "metadata": {
    "ExecuteTime": {
     "end_time": "2023-05-07T05:47:42.379157Z",
     "start_time": "2023-05-07T05:47:42.369681Z"
    }
   },
   "outputs": [],
   "source": [
    "df.drop(['날짜'],axis=1,inplace=True)"
   ]
  },
  {
   "cell_type": "code",
   "execution_count": 8,
   "id": "8df14b1f",
   "metadata": {
    "ExecuteTime": {
     "end_time": "2023-05-07T05:47:44.036837Z",
     "start_time": "2023-05-07T05:47:44.018172Z"
    }
   },
   "outputs": [
    {
     "data": {
      "text/html": [
       "<div>\n",
       "<style scoped>\n",
       "    .dataframe tbody tr th:only-of-type {\n",
       "        vertical-align: middle;\n",
       "    }\n",
       "\n",
       "    .dataframe tbody tr th {\n",
       "        vertical-align: top;\n",
       "    }\n",
       "\n",
       "    .dataframe thead th {\n",
       "        text-align: right;\n",
       "    }\n",
       "</style>\n",
       "<table border=\"1\" class=\"dataframe\">\n",
       "  <thead>\n",
       "    <tr style=\"text-align: right;\">\n",
       "      <th></th>\n",
       "      <th>PM10</th>\n",
       "      <th>PM2.5</th>\n",
       "      <th>O3</th>\n",
       "      <th>이산화질소</th>\n",
       "      <th>일산화질소</th>\n",
       "      <th>아황산가스</th>\n",
       "    </tr>\n",
       "  </thead>\n",
       "  <tbody>\n",
       "    <tr>\n",
       "      <th>0</th>\n",
       "      <td>29</td>\n",
       "      <td>21</td>\n",
       "      <td>0.004</td>\n",
       "      <td>0.022</td>\n",
       "      <td>-</td>\n",
       "      <td>0.006</td>\n",
       "    </tr>\n",
       "    <tr>\n",
       "      <th>1</th>\n",
       "      <td>45</td>\n",
       "      <td>-</td>\n",
       "      <td>0.004</td>\n",
       "      <td>0.012</td>\n",
       "      <td>-</td>\n",
       "      <td>0.006</td>\n",
       "    </tr>\n",
       "    <tr>\n",
       "      <th>2</th>\n",
       "      <td>24</td>\n",
       "      <td>19</td>\n",
       "      <td>0.005</td>\n",
       "      <td>0.012</td>\n",
       "      <td>-</td>\n",
       "      <td>0.005</td>\n",
       "    </tr>\n",
       "    <tr>\n",
       "      <th>3</th>\n",
       "      <td>24</td>\n",
       "      <td>19</td>\n",
       "      <td>0.006</td>\n",
       "      <td>0.009</td>\n",
       "      <td>-</td>\n",
       "      <td>0.005</td>\n",
       "    </tr>\n",
       "    <tr>\n",
       "      <th>4</th>\n",
       "      <td>23</td>\n",
       "      <td>20</td>\n",
       "      <td>0.006</td>\n",
       "      <td>0.005</td>\n",
       "      <td>-</td>\n",
       "      <td>0.004</td>\n",
       "    </tr>\n",
       "    <tr>\n",
       "      <th>...</th>\n",
       "      <td>...</td>\n",
       "      <td>...</td>\n",
       "      <td>...</td>\n",
       "      <td>...</td>\n",
       "      <td>...</td>\n",
       "      <td>...</td>\n",
       "    </tr>\n",
       "    <tr>\n",
       "      <th>87444</th>\n",
       "      <td>32</td>\n",
       "      <td>22</td>\n",
       "      <td>0.018</td>\n",
       "      <td>0.022</td>\n",
       "      <td>0.65</td>\n",
       "      <td>0.002</td>\n",
       "    </tr>\n",
       "    <tr>\n",
       "      <th>87445</th>\n",
       "      <td>44</td>\n",
       "      <td>33</td>\n",
       "      <td>0.006</td>\n",
       "      <td>0.032</td>\n",
       "      <td>0.61</td>\n",
       "      <td>0.002</td>\n",
       "    </tr>\n",
       "    <tr>\n",
       "      <th>87446</th>\n",
       "      <td>46</td>\n",
       "      <td>37</td>\n",
       "      <td>0.005</td>\n",
       "      <td>0.03</td>\n",
       "      <td>0.7</td>\n",
       "      <td>0.002</td>\n",
       "    </tr>\n",
       "    <tr>\n",
       "      <th>87447</th>\n",
       "      <td>47</td>\n",
       "      <td>35</td>\n",
       "      <td>0.002</td>\n",
       "      <td>0.032</td>\n",
       "      <td>0.83</td>\n",
       "      <td>0.003</td>\n",
       "    </tr>\n",
       "    <tr>\n",
       "      <th>87448</th>\n",
       "      <td>66</td>\n",
       "      <td>54</td>\n",
       "      <td>0.003</td>\n",
       "      <td>0.027</td>\n",
       "      <td>0.69</td>\n",
       "      <td>0.002</td>\n",
       "    </tr>\n",
       "  </tbody>\n",
       "</table>\n",
       "<p>87449 rows × 6 columns</p>\n",
       "</div>"
      ],
      "text/plain": [
       "      PM10 PM2.5     O3  이산화질소 일산화질소  아황산가스\n",
       "0       29    21  0.004  0.022     -  0.006\n",
       "1       45     -  0.004  0.012     -  0.006\n",
       "2       24    19  0.005  0.012     -  0.005\n",
       "3       24    19  0.006  0.009     -  0.005\n",
       "4       23    20  0.006  0.005     -  0.004\n",
       "...    ...   ...    ...    ...   ...    ...\n",
       "87444   32    22  0.018  0.022  0.65  0.002\n",
       "87445   44    33  0.006  0.032  0.61  0.002\n",
       "87446   46    37  0.005   0.03   0.7  0.002\n",
       "87447   47    35  0.002  0.032  0.83  0.003\n",
       "87448   66    54  0.003  0.027  0.69  0.002\n",
       "\n",
       "[87449 rows x 6 columns]"
      ]
     },
     "execution_count": 8,
     "metadata": {},
     "output_type": "execute_result"
    }
   ],
   "source": [
    "df"
   ]
  },
  {
   "cell_type": "code",
   "execution_count": 14,
   "id": "894e0f4c",
   "metadata": {
    "ExecuteTime": {
     "end_time": "2023-05-07T05:49:15.706631Z",
     "start_time": "2023-05-07T05:49:15.687999Z"
    }
   },
   "outputs": [],
   "source": [
    "df.replace(' ', np.nan, inplace=True)"
   ]
  },
  {
   "cell_type": "code",
   "execution_count": 15,
   "id": "1d0103d8",
   "metadata": {
    "ExecuteTime": {
     "end_time": "2023-05-07T05:49:16.493083Z",
     "start_time": "2023-05-07T05:49:16.472517Z"
    },
    "scrolled": false
   },
   "outputs": [
    {
     "data": {
      "text/html": [
       "<div>\n",
       "<style scoped>\n",
       "    .dataframe tbody tr th:only-of-type {\n",
       "        vertical-align: middle;\n",
       "    }\n",
       "\n",
       "    .dataframe tbody tr th {\n",
       "        vertical-align: top;\n",
       "    }\n",
       "\n",
       "    .dataframe thead th {\n",
       "        text-align: right;\n",
       "    }\n",
       "</style>\n",
       "<table border=\"1\" class=\"dataframe\">\n",
       "  <thead>\n",
       "    <tr style=\"text-align: right;\">\n",
       "      <th></th>\n",
       "      <th>PM10</th>\n",
       "      <th>PM2.5</th>\n",
       "      <th>O3</th>\n",
       "      <th>이산화질소</th>\n",
       "      <th>일산화질소</th>\n",
       "      <th>아황산가스</th>\n",
       "    </tr>\n",
       "  </thead>\n",
       "  <tbody>\n",
       "    <tr>\n",
       "      <th>0</th>\n",
       "      <td>29</td>\n",
       "      <td>21</td>\n",
       "      <td>0.004</td>\n",
       "      <td>0.022</td>\n",
       "      <td>NaN</td>\n",
       "      <td>0.006</td>\n",
       "    </tr>\n",
       "    <tr>\n",
       "      <th>1</th>\n",
       "      <td>45</td>\n",
       "      <td>NaN</td>\n",
       "      <td>0.004</td>\n",
       "      <td>0.012</td>\n",
       "      <td>NaN</td>\n",
       "      <td>0.006</td>\n",
       "    </tr>\n",
       "    <tr>\n",
       "      <th>2</th>\n",
       "      <td>24</td>\n",
       "      <td>19</td>\n",
       "      <td>0.005</td>\n",
       "      <td>0.012</td>\n",
       "      <td>NaN</td>\n",
       "      <td>0.005</td>\n",
       "    </tr>\n",
       "    <tr>\n",
       "      <th>3</th>\n",
       "      <td>24</td>\n",
       "      <td>19</td>\n",
       "      <td>0.006</td>\n",
       "      <td>0.009</td>\n",
       "      <td>NaN</td>\n",
       "      <td>0.005</td>\n",
       "    </tr>\n",
       "    <tr>\n",
       "      <th>4</th>\n",
       "      <td>23</td>\n",
       "      <td>20</td>\n",
       "      <td>0.006</td>\n",
       "      <td>0.005</td>\n",
       "      <td>NaN</td>\n",
       "      <td>0.004</td>\n",
       "    </tr>\n",
       "    <tr>\n",
       "      <th>...</th>\n",
       "      <td>...</td>\n",
       "      <td>...</td>\n",
       "      <td>...</td>\n",
       "      <td>...</td>\n",
       "      <td>...</td>\n",
       "      <td>...</td>\n",
       "    </tr>\n",
       "    <tr>\n",
       "      <th>87444</th>\n",
       "      <td>32</td>\n",
       "      <td>22</td>\n",
       "      <td>0.018</td>\n",
       "      <td>0.022</td>\n",
       "      <td>0.65</td>\n",
       "      <td>0.002</td>\n",
       "    </tr>\n",
       "    <tr>\n",
       "      <th>87445</th>\n",
       "      <td>44</td>\n",
       "      <td>33</td>\n",
       "      <td>0.006</td>\n",
       "      <td>0.032</td>\n",
       "      <td>0.61</td>\n",
       "      <td>0.002</td>\n",
       "    </tr>\n",
       "    <tr>\n",
       "      <th>87446</th>\n",
       "      <td>46</td>\n",
       "      <td>37</td>\n",
       "      <td>0.005</td>\n",
       "      <td>0.03</td>\n",
       "      <td>0.7</td>\n",
       "      <td>0.002</td>\n",
       "    </tr>\n",
       "    <tr>\n",
       "      <th>87447</th>\n",
       "      <td>47</td>\n",
       "      <td>35</td>\n",
       "      <td>0.002</td>\n",
       "      <td>0.032</td>\n",
       "      <td>0.83</td>\n",
       "      <td>0.003</td>\n",
       "    </tr>\n",
       "    <tr>\n",
       "      <th>87448</th>\n",
       "      <td>66</td>\n",
       "      <td>54</td>\n",
       "      <td>0.003</td>\n",
       "      <td>0.027</td>\n",
       "      <td>0.69</td>\n",
       "      <td>0.002</td>\n",
       "    </tr>\n",
       "  </tbody>\n",
       "</table>\n",
       "<p>87449 rows × 6 columns</p>\n",
       "</div>"
      ],
      "text/plain": [
       "      PM10 PM2.5     O3  이산화질소 일산화질소  아황산가스\n",
       "0       29    21  0.004  0.022   NaN  0.006\n",
       "1       45   NaN  0.004  0.012   NaN  0.006\n",
       "2       24    19  0.005  0.012   NaN  0.005\n",
       "3       24    19  0.006  0.009   NaN  0.005\n",
       "4       23    20  0.006  0.005   NaN  0.004\n",
       "...    ...   ...    ...    ...   ...    ...\n",
       "87444   32    22  0.018  0.022  0.65  0.002\n",
       "87445   44    33  0.006  0.032  0.61  0.002\n",
       "87446   46    37  0.005   0.03   0.7  0.002\n",
       "87447   47    35  0.002  0.032  0.83  0.003\n",
       "87448   66    54  0.003  0.027  0.69  0.002\n",
       "\n",
       "[87449 rows x 6 columns]"
      ]
     },
     "execution_count": 15,
     "metadata": {},
     "output_type": "execute_result"
    }
   ],
   "source": [
    "df"
   ]
  },
  {
   "cell_type": "code",
   "execution_count": 20,
   "id": "904c800c",
   "metadata": {
    "ExecuteTime": {
     "end_time": "2023-05-07T06:05:29.473122Z",
     "start_time": "2023-05-07T06:05:29.411223Z"
    }
   },
   "outputs": [
    {
     "name": "stdout",
     "output_type": "stream",
     "text": [
      "<class 'pandas.core.frame.DataFrame'>\n",
      "RangeIndex: 87449 entries, 0 to 87448\n",
      "Data columns (total 7 columns):\n",
      " #   Column  Non-Null Count  Dtype \n",
      "---  ------  --------------  ----- \n",
      " 0   PM10    76434 non-null  object\n",
      " 1   PM2.5   72456 non-null  object\n",
      " 2   O3      83998 non-null  object\n",
      " 3   이산화질소   83918 non-null  object\n",
      " 4   일산화질소   15419 non-null  object\n",
      " 5   아황산가스   83193 non-null  object\n",
      " 6   날짜      87449 non-null  object\n",
      "dtypes: object(7)\n",
      "memory usage: 4.7+ MB\n"
     ]
    }
   ],
   "source": [
    "df.info()"
   ]
  },
  {
   "cell_type": "code",
   "execution_count": 17,
   "id": "1c15d370",
   "metadata": {
    "ExecuteTime": {
     "end_time": "2023-05-07T05:49:36.663847Z",
     "start_time": "2023-05-07T05:49:36.654816Z"
    }
   },
   "outputs": [],
   "source": [
    "df['날짜']=tmp"
   ]
  },
  {
   "cell_type": "code",
   "execution_count": 18,
   "id": "53742101",
   "metadata": {
    "ExecuteTime": {
     "end_time": "2023-05-07T05:49:38.104770Z",
     "start_time": "2023-05-07T05:49:38.088788Z"
    }
   },
   "outputs": [
    {
     "data": {
      "text/html": [
       "<div>\n",
       "<style scoped>\n",
       "    .dataframe tbody tr th:only-of-type {\n",
       "        vertical-align: middle;\n",
       "    }\n",
       "\n",
       "    .dataframe tbody tr th {\n",
       "        vertical-align: top;\n",
       "    }\n",
       "\n",
       "    .dataframe thead th {\n",
       "        text-align: right;\n",
       "    }\n",
       "</style>\n",
       "<table border=\"1\" class=\"dataframe\">\n",
       "  <thead>\n",
       "    <tr style=\"text-align: right;\">\n",
       "      <th></th>\n",
       "      <th>PM10</th>\n",
       "      <th>PM2.5</th>\n",
       "      <th>O3</th>\n",
       "      <th>이산화질소</th>\n",
       "      <th>일산화질소</th>\n",
       "      <th>아황산가스</th>\n",
       "      <th>날짜</th>\n",
       "    </tr>\n",
       "  </thead>\n",
       "  <tbody>\n",
       "    <tr>\n",
       "      <th>0</th>\n",
       "      <td>29</td>\n",
       "      <td>21</td>\n",
       "      <td>0.004</td>\n",
       "      <td>0.022</td>\n",
       "      <td>NaN</td>\n",
       "      <td>0.006</td>\n",
       "      <td>2013-01-01 1:00</td>\n",
       "    </tr>\n",
       "    <tr>\n",
       "      <th>1</th>\n",
       "      <td>45</td>\n",
       "      <td>NaN</td>\n",
       "      <td>0.004</td>\n",
       "      <td>0.012</td>\n",
       "      <td>NaN</td>\n",
       "      <td>0.006</td>\n",
       "      <td>2013-01-01 2:00</td>\n",
       "    </tr>\n",
       "    <tr>\n",
       "      <th>2</th>\n",
       "      <td>24</td>\n",
       "      <td>19</td>\n",
       "      <td>0.005</td>\n",
       "      <td>0.012</td>\n",
       "      <td>NaN</td>\n",
       "      <td>0.005</td>\n",
       "      <td>2013-01-01 3:00</td>\n",
       "    </tr>\n",
       "    <tr>\n",
       "      <th>3</th>\n",
       "      <td>24</td>\n",
       "      <td>19</td>\n",
       "      <td>0.006</td>\n",
       "      <td>0.009</td>\n",
       "      <td>NaN</td>\n",
       "      <td>0.005</td>\n",
       "      <td>2013-01-01 4:00</td>\n",
       "    </tr>\n",
       "    <tr>\n",
       "      <th>4</th>\n",
       "      <td>23</td>\n",
       "      <td>20</td>\n",
       "      <td>0.006</td>\n",
       "      <td>0.005</td>\n",
       "      <td>NaN</td>\n",
       "      <td>0.004</td>\n",
       "      <td>2013-01-01 5:00</td>\n",
       "    </tr>\n",
       "    <tr>\n",
       "      <th>...</th>\n",
       "      <td>...</td>\n",
       "      <td>...</td>\n",
       "      <td>...</td>\n",
       "      <td>...</td>\n",
       "      <td>...</td>\n",
       "      <td>...</td>\n",
       "      <td>...</td>\n",
       "    </tr>\n",
       "    <tr>\n",
       "      <th>87444</th>\n",
       "      <td>32</td>\n",
       "      <td>22</td>\n",
       "      <td>0.018</td>\n",
       "      <td>0.022</td>\n",
       "      <td>0.65</td>\n",
       "      <td>0.002</td>\n",
       "      <td>2022-12-31 20:00</td>\n",
       "    </tr>\n",
       "    <tr>\n",
       "      <th>87445</th>\n",
       "      <td>44</td>\n",
       "      <td>33</td>\n",
       "      <td>0.006</td>\n",
       "      <td>0.032</td>\n",
       "      <td>0.61</td>\n",
       "      <td>0.002</td>\n",
       "      <td>2022-12-31 21:00</td>\n",
       "    </tr>\n",
       "    <tr>\n",
       "      <th>87446</th>\n",
       "      <td>46</td>\n",
       "      <td>37</td>\n",
       "      <td>0.005</td>\n",
       "      <td>0.03</td>\n",
       "      <td>0.7</td>\n",
       "      <td>0.002</td>\n",
       "      <td>2022-12-31 22:00</td>\n",
       "    </tr>\n",
       "    <tr>\n",
       "      <th>87447</th>\n",
       "      <td>47</td>\n",
       "      <td>35</td>\n",
       "      <td>0.002</td>\n",
       "      <td>0.032</td>\n",
       "      <td>0.83</td>\n",
       "      <td>0.003</td>\n",
       "      <td>2022-12-31 23:00</td>\n",
       "    </tr>\n",
       "    <tr>\n",
       "      <th>87448</th>\n",
       "      <td>66</td>\n",
       "      <td>54</td>\n",
       "      <td>0.003</td>\n",
       "      <td>0.027</td>\n",
       "      <td>0.69</td>\n",
       "      <td>0.002</td>\n",
       "      <td>2023-01-01 0:00</td>\n",
       "    </tr>\n",
       "  </tbody>\n",
       "</table>\n",
       "<p>87449 rows × 7 columns</p>\n",
       "</div>"
      ],
      "text/plain": [
       "      PM10 PM2.5     O3  이산화질소 일산화질소  아황산가스                날짜\n",
       "0       29    21  0.004  0.022   NaN  0.006   2013-01-01 1:00\n",
       "1       45   NaN  0.004  0.012   NaN  0.006   2013-01-01 2:00\n",
       "2       24    19  0.005  0.012   NaN  0.005   2013-01-01 3:00\n",
       "3       24    19  0.006  0.009   NaN  0.005   2013-01-01 4:00\n",
       "4       23    20  0.006  0.005   NaN  0.004   2013-01-01 5:00\n",
       "...    ...   ...    ...    ...   ...    ...               ...\n",
       "87444   32    22  0.018  0.022  0.65  0.002  2022-12-31 20:00\n",
       "87445   44    33  0.006  0.032  0.61  0.002  2022-12-31 21:00\n",
       "87446   46    37  0.005   0.03   0.7  0.002  2022-12-31 22:00\n",
       "87447   47    35  0.002  0.032  0.83  0.003  2022-12-31 23:00\n",
       "87448   66    54  0.003  0.027  0.69  0.002   2023-01-01 0:00\n",
       "\n",
       "[87449 rows x 7 columns]"
      ]
     },
     "execution_count": 18,
     "metadata": {},
     "output_type": "execute_result"
    }
   ],
   "source": [
    "df"
   ]
  },
  {
   "cell_type": "code",
   "execution_count": 19,
   "id": "dccccbf1",
   "metadata": {
    "ExecuteTime": {
     "end_time": "2023-05-07T05:55:14.651614Z",
     "start_time": "2023-05-07T05:55:14.486384Z"
    }
   },
   "outputs": [],
   "source": [
    "df.to_csv('미세먼지.csv',encoding='cp949')"
   ]
  },
  {
   "cell_type": "code",
   "execution_count": null,
   "id": "519ddb62",
   "metadata": {},
   "outputs": [],
   "source": []
  }
 ],
 "metadata": {
  "kernelspec": {
   "display_name": "Python 3 (ipykernel)",
   "language": "python",
   "name": "python3"
  },
  "language_info": {
   "codemirror_mode": {
    "name": "ipython",
    "version": 3
   },
   "file_extension": ".py",
   "mimetype": "text/x-python",
   "name": "python",
   "nbconvert_exporter": "python",
   "pygments_lexer": "ipython3",
   "version": "3.9.13"
  },
  "toc": {
   "base_numbering": 1,
   "nav_menu": {},
   "number_sections": true,
   "sideBar": true,
   "skip_h1_title": false,
   "title_cell": "Table of Contents",
   "title_sidebar": "Contents",
   "toc_cell": false,
   "toc_position": {},
   "toc_section_display": true,
   "toc_window_display": false
  },
  "varInspector": {
   "cols": {
    "lenName": 16,
    "lenType": 16,
    "lenVar": 40
   },
   "kernels_config": {
    "python": {
     "delete_cmd_postfix": "",
     "delete_cmd_prefix": "del ",
     "library": "var_list.py",
     "varRefreshCmd": "print(var_dic_list())"
    },
    "r": {
     "delete_cmd_postfix": ") ",
     "delete_cmd_prefix": "rm(",
     "library": "var_list.r",
     "varRefreshCmd": "cat(var_dic_list()) "
    }
   },
   "types_to_exclude": [
    "module",
    "function",
    "builtin_function_or_method",
    "instance",
    "_Feature"
   ],
   "window_display": false
  }
 },
 "nbformat": 4,
 "nbformat_minor": 5
}
